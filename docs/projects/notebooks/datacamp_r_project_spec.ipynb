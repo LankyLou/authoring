{
 "cells": [
  {
   "cell_type": "markdown",
   "metadata": {
    "collapsed": true
   },
   "source": [
    "Hi,\n",
    "\n",
    "and welcome to the R project specification document! There are two parts that are to be completed in this notebook:\n",
    "\n",
    "1. **Project info**:  The title of the project, a project description, assumed student background, etc.\n",
    "2. **Project narrative intro**: The three first text + code cells that will form the introduction of the in-project narrative notebook.\n",
    "\n",
    "When you are happy with this project spec, just e-mail the Jupyter notebook to me as an attachment. \n",
    "\n",
    "There are also examples and instructions (*as this you are reading right now*) scattered all over the notebook. Please feel free to remove all of that before sending in the project spec. Also, if you have any questions, feel free to reach out to me at any time!\n",
    "\n",
    "All best,<br>\n",
    "Rasmus Bååth<br>\n",
    "rasmus@datacamp.com"
   ]
  },
  {
   "cell_type": "markdown",
   "metadata": {},
   "source": [
    "# 1. Project info"
   ]
  },
  {
   "cell_type": "markdown",
   "metadata": {},
   "source": [
    "**Project title**: The title of the project. Catchy _but_ descriptive. Max 41 characters.\n",
    "\n",
    "**Name:** Your name. First name first, last name last.\n",
    "\n",
    "**E-mail:** A DataCamp connected e-mail (connected in the sense that you could use it to log in to datacamp.com).\n",
    "\n",
    "**GitHub username**: Your Github username.\n",
    "\n",
    "**Link to prior writing**: Please supply a link/reference to some of your own already published educational writing. For example, in the form of a blog post, notebook, article, book or internal case study.\n",
    "\n",
    "**Short description**: A short description of the project, less than 110 characters. This will be read by the students on the DataCamp platform **before** deciding to start the project.\n",
    "\n",
    "#### Long description ####\n",
    "\n",
    "A longer description of the project, around four sentences in length. \n",
    "This will be read by the students on the DataCamp platform **before** deciding to start the project.\n",
    "\n",
    "It should mention some of the major prerequisites for completing the project \n",
    "(for example \"familiarity with data frame\" or \"know how to use the `lm` function\")\n",
    "\n",
    "#### Datasets used ####\n",
    "\n",
    "Short description (and ideally links) to the datasets used in the project. This will be read my me (Rasmus) only.\n",
    "\n",
    "#### Assumed student background ####\n",
    "\n",
    "What background knowledge you assume the student doing this project will have. The more specific the better. This will be read my me (Rasmus) only. Please list things like modules, tools, functions, methods, and statistical concepts and jargon.\n",
    "\n",
    "Not so useful: \"The student has a basic familiarity with data frames.\"\n",
    "\n",
    "More useful: \"The student knows how to read in a csv file as a data frame and how to compute grouped summary statistics using `dplyr`.\""
   ]
  },
  {
   "cell_type": "markdown",
   "metadata": {},
   "source": [
    "---\n",
    "# Example Project info (feel free to delete)"
   ]
  },
  {
   "cell_type": "markdown",
   "metadata": {},
   "source": [
    "**Project title**: The discovery of handwashing\n",
    "\n",
    "**Name:** Rasmus Bååth\n",
    "\n",
    "**E-mail:** rasmus.baath@gmail.com\n",
    "\n",
    "**GitHub username**: rasmusab\n",
    "\n",
    "**Link to prior writing**: http://sumsar.net/blog/2016/09/whats-on-the-menu/\n",
    "\n",
    "**Short description**: Reanalyse the data behind one of the most important discoveries of modern medicine: Handwashing.\n",
    "\n",
    "#### Long description ####\n",
    "\n",
    "In 1847 the Hungarian physician Ignaz Semmelweis makes a breakthrough discovery: He discovers handwashing. Contaminated hands was a major cause of childbed fever and by enforcing handwashing at his hospital he saved hundreds of lives. In this R project, we will reanalyze the medical data Semmelweis collected. This project assumes you have familiarity handling data frames and knows how to perform a bootstrap analysis. \n",
    "\n",
    "#### Datasets used ####\n",
    "\n",
    "This project uses the original data collected by Dr. Semmelweis which should be in the public domain. I haven't found any tidy `csv` files, so I scraped the data from this Wikipedia page: https://en.wikipedia.org/wiki/Historical_mortality_rates_of_puerperal_fever\n",
    "\n",
    "`yearly_deaths_by_clinic.csv`: https://gist.github.com/rasmusab/a207ab6ce2af0d74d20a3559a4ad3d9b\n",
    "\n",
    "`monthly_deaths.csv`: https://gist.github.com/rasmusab/02c06684ca8fd93b5125b713ffe2b9f6\n",
    "\n",
    "#### Assumed student background ####\n",
    "\n",
    "The student can handle basic R control structures like `if` statements and `for` loops. The student can load in and inspect `csv` files. She knows how to select column and subset rows using the `[]` and `$` operators and understand vectorized operators (like that `+` is vectorized). The student has produced line plots using the `plot` function. The student knows that a bootstrap distribution is created by repeatedly resampling a dataset, and knows how to calculate a bootstrap confidence interval using the `quantile` function.\n",
    "\n",
    "---"
   ]
  },
  {
   "cell_type": "markdown",
   "metadata": {},
   "source": [
    "# 2. Project narrative intro"
   ]
  },
  {
   "cell_type": "markdown",
   "metadata": {},
   "source": [
    "\n",
    "A final DataCamp project consists of two parts\n",
    "\n",
    "1. **A narrative notebook**. This is the self-contained data analysis/story/narrative that will be displayed as the actual Jupyter notebook in the final DataCamp project.\n",
    "2. **Supporting information**: task instructions, hints, sample code and correctness checks.\n",
    "\n",
    "The narrative notebook is written from the perspective of the data analyst and it should stand on its own (rule of thumb: It should be publishable as is on a blog). It should be structured around 8-10 \"tasks\", where each task consists of a title, a **single** text cell, and a **single** code cell.\n",
    "\n",
    "This section should contain the introduction of the narrative notebook: **The three first tasks.** See further down for an example introduction. If the code loads in external data make sure to attach it when you email me the notebook."
   ]
  },
  {
   "cell_type": "markdown",
   "metadata": {},
   "source": [
    "## 1. The title of the first task"
   ]
  },
  {
   "cell_type": "markdown",
   "metadata": {},
   "source": [
    "Context / background / story / etc of the first task. It should at most have 800 characters and/or 3 paragraphs. But short is good."
   ]
  },
  {
   "cell_type": "code",
   "execution_count": 1,
   "metadata": {
    "collapsed": true
   },
   "outputs": [],
   "source": [
    "# Code for the first task\n",
    "# It should consist of up to 10 lines of code and comments \n",
    "# and take at most 5 seconds to execute on an average laptop."
   ]
  },
  {
   "cell_type": "markdown",
   "metadata": {},
   "source": [
    "## 2. The title of the second task"
   ]
  },
  {
   "cell_type": "markdown",
   "metadata": {},
   "source": [
    "Context / background / story / etc of the second task. It should at most have 800 characters and/or 3 paragraphs. But short is good."
   ]
  },
  {
   "cell_type": "code",
   "execution_count": 2,
   "metadata": {
    "collapsed": true
   },
   "outputs": [],
   "source": [
    "# Code for the second task\n",
    "# It should consist of up to 10 lines of code and comments \n",
    "# and take at most 5 seconds to execute on an average laptop."
   ]
  },
  {
   "cell_type": "markdown",
   "metadata": {},
   "source": [
    "## 3. The title of the third task"
   ]
  },
  {
   "cell_type": "markdown",
   "metadata": {},
   "source": [
    "Context / background / story / etc of the third. It should at most have 800 characters and/or 3 paragraphs. But short is good."
   ]
  },
  {
   "cell_type": "code",
   "execution_count": 3,
   "metadata": {
    "collapsed": true
   },
   "outputs": [],
   "source": [
    "# Code for the third task\n",
    "# It should consist of up to 10 lines of code and comments \n",
    "# and take at most 5 seconds to execute on an average laptop."
   ]
  },
  {
   "cell_type": "markdown",
   "metadata": {},
   "source": [
    "*Stop here! Only the three first tasks :)*"
   ]
  },
  {
   "cell_type": "markdown",
   "metadata": {},
   "source": [
    "---\n",
    "\n",
    "# Example project introduction (feel free to delete)"
   ]
  },
  {
   "cell_type": "markdown",
   "metadata": {},
   "source": [
    "## 1. Meet Dr. Ignaz Semmelweis"
   ]
  },
  {
   "cell_type": "markdown",
   "metadata": {},
   "source": [
    "<img style=\"float: left;margin:5px 20px 5px 1px\" src=\"https://i.imgur.com/MOjyIXX.jpg\">\n",
    "\n",
    "This is Dr. Ignaz Semmelweis, a Hungarian physician born in 1818 and active at the Vienna General Hospital. If Dr. Semmelweis looks troubled it's probably because he's thinking about *childbed fever*: A deadly disease affecting women that just have given birth. He is thinking about it because in the early 1840s at the Vienna General Hospital as many as 10% of the women giving birth die from it. He is thinking about it because he knows the cause of childbed fever: It's the contaminated hands of the doctors delivering the babies. And they won't listen to him and *wash their hands*!\n",
    "\n",
    "In this notebook, we're going to reanalyze the data that made Semmelweis discover the importance of *handwashing*. Let's start by looking at the data that made Semmelweis realize that something was wrong with the procedures at Vienna General Hospital."
   ]
  },
  {
   "cell_type": "code",
   "execution_count": 1,
   "metadata": {
    "scrolled": true
   },
   "outputs": [
    {
     "data": {
      "text/html": [
       "<table>\n",
       "<thead><tr><th scope=col>year</th><th scope=col>births</th><th scope=col>deaths</th><th scope=col>clinic</th></tr></thead>\n",
       "<tbody>\n",
       "\t<tr><td>1841    </td><td>3036    </td><td>237     </td><td>clinic 1</td></tr>\n",
       "\t<tr><td>1842    </td><td>3287    </td><td>518     </td><td>clinic 1</td></tr>\n",
       "\t<tr><td>1843    </td><td>3060    </td><td>274     </td><td>clinic 1</td></tr>\n",
       "\t<tr><td>1844    </td><td>3157    </td><td>260     </td><td>clinic 1</td></tr>\n",
       "\t<tr><td>1845    </td><td>3492    </td><td>241     </td><td>clinic 1</td></tr>\n",
       "\t<tr><td>1846    </td><td>4010    </td><td>459     </td><td>clinic 1</td></tr>\n",
       "\t<tr><td>1841    </td><td>2442    </td><td> 86     </td><td>clinic 2</td></tr>\n",
       "\t<tr><td>1842    </td><td>2659    </td><td>202     </td><td>clinic 2</td></tr>\n",
       "\t<tr><td>1843    </td><td>2739    </td><td>164     </td><td>clinic 2</td></tr>\n",
       "\t<tr><td>1844    </td><td>2956    </td><td> 68     </td><td>clinic 2</td></tr>\n",
       "\t<tr><td>1845    </td><td>3241    </td><td> 66     </td><td>clinic 2</td></tr>\n",
       "\t<tr><td>1846    </td><td>3754    </td><td>105     </td><td>clinic 2</td></tr>\n",
       "</tbody>\n",
       "</table>\n"
      ],
      "text/latex": [
       "\\begin{tabular}{r|llll}\n",
       " year & births & deaths & clinic\\\\\n",
       "\\hline\n",
       "\t 1841     & 3036     & 237      & clinic 1\\\\\n",
       "\t 1842     & 3287     & 518      & clinic 1\\\\\n",
       "\t 1843     & 3060     & 274      & clinic 1\\\\\n",
       "\t 1844     & 3157     & 260      & clinic 1\\\\\n",
       "\t 1845     & 3492     & 241      & clinic 1\\\\\n",
       "\t 1846     & 4010     & 459      & clinic 1\\\\\n",
       "\t 1841     & 2442     &  86      & clinic 2\\\\\n",
       "\t 1842     & 2659     & 202      & clinic 2\\\\\n",
       "\t 1843     & 2739     & 164      & clinic 2\\\\\n",
       "\t 1844     & 2956     &  68      & clinic 2\\\\\n",
       "\t 1845     & 3241     &  66      & clinic 2\\\\\n",
       "\t 1846     & 3754     & 105      & clinic 2\\\\\n",
       "\\end{tabular}\n"
      ],
      "text/markdown": [
       "\n",
       "year | births | deaths | clinic | \n",
       "|---|---|---|---|---|---|---|---|---|---|---|---|\n",
       "| 1841     | 3036     | 237      | clinic 1 | \n",
       "| 1842     | 3287     | 518      | clinic 1 | \n",
       "| 1843     | 3060     | 274      | clinic 1 | \n",
       "| 1844     | 3157     | 260      | clinic 1 | \n",
       "| 1845     | 3492     | 241      | clinic 1 | \n",
       "| 1846     | 4010     | 459      | clinic 1 | \n",
       "| 1841     | 2442     |  86      | clinic 2 | \n",
       "| 1842     | 2659     | 202      | clinic 2 | \n",
       "| 1843     | 2739     | 164      | clinic 2 | \n",
       "| 1844     | 2956     |  68      | clinic 2 | \n",
       "| 1845     | 3241     |  66      | clinic 2 | \n",
       "| 1846     | 3754     | 105      | clinic 2 | \n",
       "\n",
       "\n"
      ],
      "text/plain": [
       "   year births deaths clinic  \n",
       "1  1841 3036   237    clinic 1\n",
       "2  1842 3287   518    clinic 1\n",
       "3  1843 3060   274    clinic 1\n",
       "4  1844 3157   260    clinic 1\n",
       "5  1845 3492   241    clinic 1\n",
       "6  1846 4010   459    clinic 1\n",
       "7  1841 2442    86    clinic 2\n",
       "8  1842 2659   202    clinic 2\n",
       "9  1843 2739   164    clinic 2\n",
       "10 1844 2956    68    clinic 2\n",
       "11 1845 3241    66    clinic 2\n",
       "12 1846 3754   105    clinic 2"
      ]
     },
     "metadata": {},
     "output_type": "display_data"
    }
   ],
   "source": [
    "data_url <- \"https://gist.githubusercontent.com/rasmusab/a207ab6ce2af0d74d20a3559a4ad3d9b/raw/e38cb78b75696dd2ac7bf69ddc8c574cb2315d12/yearly_deaths_by_clinic.csv\"\n",
    "yearly <- read.csv(data_url)\n",
    "yearly"
   ]
  },
  {
   "cell_type": "markdown",
   "metadata": {},
   "source": [
    "## 2. The alarming number of deaths"
   ]
  },
  {
   "cell_type": "markdown",
   "metadata": {},
   "source": [
    "The table above shows the number of women giving birth at the two clinics at the Vienna General Hospital for the years 1841 to 1846. You'll notice that giving birth was very dangerous; an *alarming* number of women died as the result of childbirth, most of them from childbed fever.\n",
    "\n",
    "We see this more clearly if we look at the *proportion of deaths* out of the number of women giving birth. Let's zoom in on the proportion of deaths at Clinic 1."
   ]
  },
  {
   "cell_type": "code",
   "execution_count": 2,
   "metadata": {},
   "outputs": [
    {
     "data": {
      "text/html": [
       "<table>\n",
       "<thead><tr><th scope=col>year</th><th scope=col>births</th><th scope=col>deaths</th><th scope=col>clinic</th><th scope=col>proportion_deaths</th></tr></thead>\n",
       "<tbody>\n",
       "\t<tr><td>1841      </td><td>3036      </td><td>237       </td><td>clinic 1  </td><td>0.07806324</td></tr>\n",
       "\t<tr><td>1842      </td><td>3287      </td><td>518       </td><td>clinic 1  </td><td>0.15759051</td></tr>\n",
       "\t<tr><td>1843      </td><td>3060      </td><td>274       </td><td>clinic 1  </td><td>0.08954248</td></tr>\n",
       "\t<tr><td>1844      </td><td>3157      </td><td>260       </td><td>clinic 1  </td><td>0.08235667</td></tr>\n",
       "\t<tr><td>1845      </td><td>3492      </td><td>241       </td><td>clinic 1  </td><td>0.06901489</td></tr>\n",
       "\t<tr><td>1846      </td><td>4010      </td><td>459       </td><td>clinic 1  </td><td>0.11446384</td></tr>\n",
       "</tbody>\n",
       "</table>\n"
      ],
      "text/latex": [
       "\\begin{tabular}{r|lllll}\n",
       " year & births & deaths & clinic & proportion\\_deaths\\\\\n",
       "\\hline\n",
       "\t 1841       & 3036       & 237        & clinic 1   & 0.07806324\\\\\n",
       "\t 1842       & 3287       & 518        & clinic 1   & 0.15759051\\\\\n",
       "\t 1843       & 3060       & 274        & clinic 1   & 0.08954248\\\\\n",
       "\t 1844       & 3157       & 260        & clinic 1   & 0.08235667\\\\\n",
       "\t 1845       & 3492       & 241        & clinic 1   & 0.06901489\\\\\n",
       "\t 1846       & 4010       & 459        & clinic 1   & 0.11446384\\\\\n",
       "\\end{tabular}\n"
      ],
      "text/markdown": [
       "\n",
       "year | births | deaths | clinic | proportion_deaths | \n",
       "|---|---|---|---|---|---|\n",
       "| 1841       | 3036       | 237        | clinic 1   | 0.07806324 | \n",
       "| 1842       | 3287       | 518        | clinic 1   | 0.15759051 | \n",
       "| 1843       | 3060       | 274        | clinic 1   | 0.08954248 | \n",
       "| 1844       | 3157       | 260        | clinic 1   | 0.08235667 | \n",
       "| 1845       | 3492       | 241        | clinic 1   | 0.06901489 | \n",
       "| 1846       | 4010       | 459        | clinic 1   | 0.11446384 | \n",
       "\n",
       "\n"
      ],
      "text/plain": [
       "  year births deaths clinic   proportion_deaths\n",
       "1 1841 3036   237    clinic 1 0.07806324       \n",
       "2 1842 3287   518    clinic 1 0.15759051       \n",
       "3 1843 3060   274    clinic 1 0.08954248       \n",
       "4 1844 3157   260    clinic 1 0.08235667       \n",
       "5 1845 3492   241    clinic 1 0.06901489       \n",
       "6 1846 4010   459    clinic 1 0.11446384       "
      ]
     },
     "metadata": {},
     "output_type": "display_data"
    }
   ],
   "source": [
    "# Calculate proportion of deaths per no. births\n",
    "yearly$proportion_deaths = yearly$deaths / yearly$births\n",
    "\n",
    "# Extract clinic 1 data into yearly1 and clinic 2 data into yearly2\n",
    "yearly1 = yearly[ yearly$clinic == \"clinic 1\", ]\n",
    "yearly2 = yearly[ yearly$clinic == \"clinic 2\", ]\n",
    "\n",
    "yearly1"
   ]
  },
  {
   "cell_type": "markdown",
   "metadata": {},
   "source": [
    "## 3. Death at the clinics"
   ]
  },
  {
   "cell_type": "markdown",
   "metadata": {},
   "source": [
    "If we now plot the proportion of deaths at both clinic 1 and clinic 2  we'll see a curious pattern..."
   ]
  },
  {
   "cell_type": "code",
   "execution_count": 3,
   "metadata": {},
   "outputs": [
    {
     "data": {
      "image/png": "[encoded data removed]",
      "text/plain": [
       "plot without title"
      ]
     },
     "metadata": {},
     "output_type": "display_data"
    }
   ],
   "source": [
    "# Plot yearly proportion of deaths at the two clinics\n",
    "plot(yearly1$year, yearly1$proportion_deaths, ylim = c(0, 0.2), \n",
    "     type = \"l\", col = \"green\")\n",
    "lines(yearly2$year, yearly2$proportion_deaths,\n",
    "      type = \"l\", col = \"blue\")\n",
    "legend(\"topright\", c(\"Clinic 1\", \"Clinic 2\"), fill = c(\"green\", \"blue\"))"
   ]
  },
  {
   "cell_type": "markdown",
   "metadata": {},
   "source": [
    "*To be continued...*\n",
    "\n",
    "---"
   ]
  }
 ],
 "metadata": {
  "kernelspec": {
   "display_name": "R",
   "language": "R",
   "name": "ir"
  },
  "language_info": {
   "codemirror_mode": "r",
   "file_extension": ".r",
   "mimetype": "text/x-r-source",
   "name": "R",
   "pygments_lexer": "r",
   "version": "3.4.2"
  }
 },
 "nbformat": 4,
 "nbformat_minor": 2
}
